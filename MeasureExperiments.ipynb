{
 "cells": [
  {
   "cell_type": "code",
   "execution_count": 4,
   "metadata": {},
   "outputs": [
    {
     "name": "stdout",
     "output_type": "stream",
     "text": [
      "312 97 409\n"
     ]
    }
   ],
   "source": [
    "import numpy as np\n",
    "import matplotlib.pyplot as plt\n",
    "from pyannote.metrics import binary_classification\n",
    "\n",
    "Y_positives = np.load('Y_positives.npy')\n",
    "Y_negatives = np.load('Y_negatives.npy')\n",
    "print(len(Y_positives), len(Y_negatives), len(Y_positives)+len(Y_negatives))"
   ]
  },
  {
   "cell_type": "code",
   "execution_count": 2,
   "metadata": {},
   "outputs": [],
   "source": [
    "Y_positives = np.log10(Y_positives)\n",
    "Y_negatives = np.log10(Y_negatives)"
   ]
  },
  {
   "cell_type": "code",
   "execution_count": 5,
   "metadata": {},
   "outputs": [
    {
     "data": {
      "image/png": "[encoded data removed]",
      "text/plain": [
       "<Figure size 432x288 with 1 Axes>"
      ]
     },
     "metadata": {},
     "output_type": "display_data"
    }
   ],
   "source": [
    "plt.plot(Y_positives)\n",
    "plt.plot(Y_negatives)\n",
    "plt.show()"
   ]
  },
  {
   "cell_type": "code",
   "execution_count": 9,
   "metadata": {},
   "outputs": [
    {
     "name": "stderr",
     "output_type": "stream",
     "text": [
      "/people/maurice/anaconda3-4.3.1/envs/pyannote-video-dev-newGPU/lib/python3.6/site-packages/matplotlib/axes/_axes.py:6571: UserWarning: The 'normed' kwarg is deprecated, and has been replaced by the 'density' kwarg.\n",
      "  warnings.warn(\"The 'normed' kwarg is deprecated, and has been \"\n"
     ]
    },
    {
     "data": {
      "image/png": "[encoded data removed]",
      "text/plain": [
       "<Figure size 432x288 with 1 Axes>"
      ]
     },
     "metadata": {},
     "output_type": "display_data"
    }
   ],
   "source": [
    "plt.hist(Y_positives), bins='auto', normed=True, color='g', alpha=0.5)\n",
    "plt.hist(Y_negatives), bins='auto', normed=True, color='r', alpha=0.5)\n",
    "plt.show()"
   ]
  },
  {
   "cell_type": "code",
   "execution_count": 10,
   "metadata": {},
   "outputs": [],
   "source": [
    "fpr, tpr, thresholds, eer = binary_classification.det_curve(np.asarray([0 for i in range(len(Y_negatives))] + [1 for i in range(len(Y_positives))]), np.hstack((Y_negatives,Y_positives)))"
   ]
  },
  {
   "cell_type": "code",
   "execution_count": 11,
   "metadata": {},
   "outputs": [
    {
     "data": {
      "text/plain": [
       "0.25"
      ]
     },
     "execution_count": 11,
     "metadata": {},
     "output_type": "execute_result"
    }
   ],
   "source": [
    "eer"
   ]
  },
  {
   "cell_type": "code",
   "execution_count": 1,
   "metadata": {},
   "outputs": [],
   "source": [
    "import data\n",
    "import model as utils\n",
    "import pickle\n",
    "import numpy as np\n",
    "import torch"
   ]
  },
  {
   "cell_type": "code",
   "execution_count": 3,
   "metadata": {},
   "outputs": [
    {
     "name": "stdout",
     "output_type": "stream",
     "text": [
      "file 0 on 176\n",
      "Found 927(/934) words with w2v vectors\n",
      "Vocab size : 927\n"
     ]
    },
    {
     "name": "stderr",
     "output_type": "stream",
     "text": [
      "/people/maurice/HierarchicalRNN/model.py:97: UserWarning: Implicit dimension choice for softmax has been deprecated. Change the call to include dim=X as an argument.\n",
      "  alpha_ = self.softmax(alpha_)\n"
     ]
    },
    {
     "name": "stdout",
     "output_type": "stream",
     "text": [
      "1.0 1.0 0.0\n",
      "0.9999996423721313 1.0 3.5762786865234375e-07\n",
      "0.99997878074646 1.0 2.1219253540039062e-05\n",
      "0.0009240505169145763 0.0 0.0009240505169145763\n",
      "2.776459098186024e-07 0.0 2.776459098186024e-07\n",
      "0.999867014395885 0.00041399021734041415 0.9994530241785445\n"
     ]
    }
   ],
   "source": [
    "device = 'cuda:0'\n",
    "is_trained = True\n",
    "type_sentence_embedding='infersent'\n",
    "\n",
    "X_train, Y_train, X_dev, Y_dev, X_test, Y_test, words_set, we = data.load_data(type_sentence_embedding=type_sentence_embedding)\n",
    "hidden_size = 300\n",
    "if type_sentence_embedding == 'lstm':\n",
    "    taille_embedding = len(we.vectors[we.stoi[X_train[0][0][0]]])\n",
    "else:\n",
    "    taille_embedding = 4096\n",
    "\n",
    "idx_set_words, embed, model_trained, losses = utils.launch_train(X_train, Y_train, words_set, we, taille_embedding, hidden_size=hidden_size, taille_context=3, bidirectional=False, num_layers=1, nb_epoch=300, targset_size=1, device=device, is_trained=is_trained, type_sentence_embedding=type_sentence_embedding)\n",
    "if is_trained:\n",
    "    model_trained.load_state_dict(torch.load('/people/maurice/HierarchicalRNN/last_model.pth.tar'))\n",
    "else:\n",
    "    np.save('losses.npy', np.asarray(losses))\n",
    "\n",
    "def get_predictions(X_all, Y_all, idx_set_words, embed, model, taille_context=3, device='cpu', is_eval=False, type_sentence_embedding='lstm'):\n",
    "    Y_positives_all = []\n",
    "    Y_negatives_all = []\n",
    "    file = 0\n",
    "    for X,Y in zip(X_all,Y_all):\n",
    "        print('file', file, 'on', len(X_all))\n",
    "        Y_positives, Y_negatives = utils.get_one_prediction(X, Y, idx_set_words, embed, model, taille_context=taille_context, device=device, is_eval=is_eval,type_sentence_embedding=type_sentence_embedding)\n",
    "        Y_positives_all += Y_positives\n",
    "        Y_negatives_all += Y_negatives\n",
    "        file += 1\n",
    "        break\n",
    "    Y_positives_all = np.asarray(Y_positives_all)\n",
    "    Y_negatives_all = np.asarray(Y_negatives_all)\n",
    "    np.save('Y_positives.npy', Y_positives_all)\n",
    "    np.save('Y_negatives.npy', Y_negatives_all)\n",
    "    print(np.mean(Y_positives_all), np.mean(Y_negatives_all), np.mean(Y_positives_all) - np.mean(Y_negatives_all))\n",
    "\n",
    "get_predictions(X_train, Y_train, idx_set_words, embed, model_trained, taille_context=3, device=device, is_eval=True, type_sentence_embedding=type_sentence_embedding)\n",
    "#get_predictions(X_dev, Y_dev, idx_set_words, embed, model_trained, taille_context=3, device=device, is_eval=True, type_sentence_embedding=type_sentence_embedding)\n",
    "#get_predictions(X_test, Y_test, idx_set_words, embed, model_trained, taille_context=3, device=device, is_eval=True, type_sentence_embedding=type_sentence_embedding)"
   ]
  },
  {
   "cell_type": "code",
   "execution_count": null,
   "metadata": {},
   "outputs": [],
   "source": []
  }
 ],
 "metadata": {
  "kernelspec": {
   "display_name": "pyannote-video-dev-newGPU",
   "language": "python",
   "name": "pyannote-video-dev-newgpu"
  },
  "language_info": {
   "codemirror_mode": {
    "name": "ipython",
    "version": 3
   },
   "file_extension": ".py",
   "mimetype": "text/x-python",
   "name": "python",
   "nbconvert_exporter": "python",
   "pygments_lexer": "ipython3",
   "version": "3.6.6"
  }
 },
 "nbformat": 4,
 "nbformat_minor": 2
}
