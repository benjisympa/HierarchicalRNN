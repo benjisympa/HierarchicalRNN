{
 "cells": [
  {
   "cell_type": "code",
   "execution_count": 113,
   "metadata": {},
   "outputs": [
    {
     "name": "stderr",
     "output_type": "stream",
     "text": [
      "/people/maurice/anaconda3-4.3.1/envs/pyannote-video-dev-newGPU/lib/python3.6/site-packages/torch/nn/modules/rnn.py:38: UserWarning: dropout option adds dropout after all but last recurrent layer, so non-zero dropout expects num_layers greater than 1, but got dropout=0.5 and num_layers=1\n",
      "  \"num_layers={}\".format(dropout, num_layers))\n",
      "  0%|          | 0/22 [00:00<?, ?it/s]"
     ]
    },
    {
     "name": "stdout",
     "output_type": "stream",
     "text": [
      "Define the model\n",
      "Predict on test\n"
     ]
    },
    {
     "name": "stderr",
     "output_type": "stream",
     "text": [
      "100%|██████████| 22/22 [00:08<00:00,  2.74it/s]"
     ]
    },
    {
     "name": "stdout",
     "output_type": "stream",
     "text": [
      "0.73736674 0.4575787 0.27978805\n"
     ]
    },
    {
     "name": "stderr",
     "output_type": "stream",
     "text": [
      "\n"
     ]
    }
   ],
   "source": [
    "import model as Model\n",
    "import pickle\n",
    "import numpy as np\n",
    "import torch\n",
    "import pathlib\n",
    "import glob\n",
    "\n",
    "torch.manual_seed(1234)\n",
    "torch.backends.cudnn.deterministic = True\n",
    "torch.backends.cudnn.benchmark = False\n",
    "np.random.seed(1234)\n",
    "\n",
    "device = 'cuda:1'#'cpu'\n",
    "pre_load_data = False\n",
    "type_sentence_embedding='infersent'\n",
    "subset_data = 'big_bang_theory_:'\n",
    "path_save = '/vol/work3/maurice/HierarchicalRNN/'\n",
    "hidden_size = 300\n",
    "batch_size = 32\n",
    "taille_context = 5\n",
    "targset_size = 1\n",
    "hidden_linear_size = 10\n",
    "num_layers = 1\n",
    "dp_ratio = 0.5\n",
    "bidirectional = False\n",
    "\n",
    "if type_sentence_embedding == 'infersent':\n",
    "    taille_embedding = 4096\n",
    "\n",
    "#Define the model\n",
    "print('Define the model')\n",
    "model = Model.HierarchicalBiLSTM_on_sentence_embedding(taille_embedding, hidden_size, targset_size, num_layers, hidden_linear_size, dp_ratio, bidirectional=bidirectional, device=device, type_sentence_embedding=type_sentence_embedding)\n",
    "model = model.to(device)\n",
    "\n",
    "#To use model\n",
    "subset = 'dev'\n",
    "sub_path = path_save+type_sentence_embedding+'/'+subset_data\n",
    "path_model = sub_path+'/'\n",
    "path_data = sub_path+'/pre_trained_features'\n",
    "path_work = sub_path+'/work/'\n",
    "path_data_train=path_data+'/train/'\n",
    "print('Predict on test')\n",
    "#best_model_path = sorted(list(glob.glob(path_model+'model_best_*.pth.tar')))[-1]\n",
    "best_model_path = glob.glob(path_model+'model_best_2010.pth.tar')[0] #1505\n",
    "model.load_state_dict(torch.load(best_model_path))\n",
    "Model.get_predictions(model, subset, path_data, path_work, device=device, type_sentence_embedding=type_sentence_embedding)"
   ]
  },
  {
   "cell_type": "code",
   "execution_count": 118,
   "metadata": {},
   "outputs": [
    {
     "name": "stdout",
     "output_type": "stream",
     "text": [
      "torch.Size([32]) torch.Size([62, 32, 4096])\n",
      "torch.Size([32]) torch.Size([62, 32, 4096])\n",
      "torch.Size([6]) torch.Size([62, 6, 4096])\n",
      "torch.Size([32]) torch.Size([62, 32, 4096])\n",
      "torch.Size([32]) torch.Size([62, 32, 4096])\n",
      "torch.Size([32]) torch.Size([62, 32, 4096])\n",
      "torch.Size([32]) torch.Size([62, 32, 4096])\n",
      "torch.Size([32]) torch.Size([62, 32, 4096])\n",
      "torch.Size([32]) torch.Size([62, 32, 4096])\n",
      "torch.Size([32]) torch.Size([62, 32, 4096])\n",
      "torch.Size([32]) torch.Size([62, 32, 4096])\n",
      "torch.Size([32]) torch.Size([62, 32, 4096])\n",
      "torch.Size([32]) torch.Size([62, 32, 4096])\n",
      "torch.Size([17]) torch.Size([62, 17, 4096])\n",
      "torch.Size([32]) torch.Size([62, 32, 4096])\n",
      "torch.Size([32]) torch.Size([62, 32, 4096])\n",
      "torch.Size([32]) torch.Size([62, 32, 4096])\n",
      "torch.Size([32]) torch.Size([62, 32, 4096])\n",
      "torch.Size([32]) torch.Size([62, 32, 4096])\n",
      "torch.Size([32]) torch.Size([62, 32, 4096])\n",
      "torch.Size([32]) torch.Size([62, 32, 4096])\n",
      "torch.Size([32]) torch.Size([62, 32, 4096])\n",
      "torch.Size([32]) torch.Size([62, 32, 4096])\n",
      "torch.Size([32]) torch.Size([62, 32, 4096])\n",
      "torch.Size([32]) torch.Size([62, 32, 4096])\n",
      "torch.Size([32]) torch.Size([62, 32, 4096])\n",
      "torch.Size([32]) torch.Size([62, 32, 4096])\n",
      "torch.Size([19]) torch.Size([62, 19, 4096])\n",
      "torch.Size([32]) torch.Size([62, 32, 4096])\n",
      "torch.Size([32]) torch.Size([62, 32, 4096])\n",
      "torch.Size([32]) torch.Size([62, 32, 4096])\n",
      "torch.Size([32]) torch.Size([62, 32, 4096])\n",
      "torch.Size([9]) torch.Size([62, 9, 4096])\n",
      "torch.Size([32]) torch.Size([62, 32, 4096])\n",
      "torch.Size([32]) torch.Size([62, 32, 4096])\n",
      "torch.Size([32]) torch.Size([62, 32, 4096])\n",
      "torch.Size([32]) torch.Size([62, 32, 4096])\n",
      "torch.Size([32]) torch.Size([62, 32, 4096])\n",
      "torch.Size([32]) torch.Size([62, 32, 4096])\n",
      "torch.Size([32]) torch.Size([62, 32, 4096])\n",
      "torch.Size([32]) torch.Size([62, 32, 4096])\n",
      "torch.Size([32]) torch.Size([62, 32, 4096])\n",
      "torch.Size([32]) torch.Size([62, 32, 4096])\n",
      "torch.Size([32]) torch.Size([62, 32, 4096])\n",
      "torch.Size([3]) torch.Size([62, 3, 4096])\n",
      "torch.Size([32]) torch.Size([62, 32, 4096])\n",
      "torch.Size([32]) torch.Size([62, 32, 4096])\n",
      "torch.Size([32]) torch.Size([62, 32, 4096])\n",
      "torch.Size([32]) torch.Size([62, 32, 4096])\n",
      "torch.Size([32]) torch.Size([62, 32, 4096])\n",
      "torch.Size([32]) torch.Size([62, 32, 4096])\n",
      "torch.Size([32]) torch.Size([62, 32, 4096])\n",
      "torch.Size([32]) torch.Size([62, 32, 4096])\n",
      "torch.Size([32]) torch.Size([62, 32, 4096])\n",
      "torch.Size([32]) torch.Size([62, 32, 4096])\n",
      "torch.Size([32]) torch.Size([62, 32, 4096])\n",
      "torch.Size([9]) torch.Size([62, 9, 4096])\n",
      "torch.Size([32]) torch.Size([62, 32, 4096])\n",
      "torch.Size([32]) torch.Size([62, 32, 4096])\n",
      "torch.Size([32]) torch.Size([62, 32, 4096])\n",
      "torch.Size([32]) torch.Size([62, 32, 4096])\n",
      "torch.Size([32]) torch.Size([62, 32, 4096])\n",
      "torch.Size([32]) torch.Size([62, 32, 4096])\n",
      "torch.Size([32]) torch.Size([62, 32, 4096])\n",
      "torch.Size([32]) torch.Size([62, 32, 4096])\n",
      "torch.Size([32]) torch.Size([62, 32, 4096])\n",
      "torch.Size([32]) torch.Size([62, 32, 4096])\n",
      "torch.Size([32]) torch.Size([62, 32, 4096])\n",
      "torch.Size([12]) torch.Size([62, 12, 4096])\n",
      "torch.Size([32]) torch.Size([62, 32, 4096])\n",
      "torch.Size([32]) torch.Size([62, 32, 4096])\n",
      "torch.Size([32]) torch.Size([62, 32, 4096])\n",
      "torch.Size([32]) torch.Size([62, 32, 4096])\n",
      "torch.Size([31]) torch.Size([62, 31, 4096])\n",
      "torch.Size([32]) torch.Size([62, 32, 4096])\n",
      "torch.Size([32]) torch.Size([62, 32, 4096])\n",
      "torch.Size([32]) torch.Size([62, 32, 4096])\n",
      "torch.Size([32]) torch.Size([62, 32, 4096])\n",
      "torch.Size([32]) torch.Size([62, 32, 4096])\n",
      "torch.Size([32]) torch.Size([62, 32, 4096])\n",
      "torch.Size([32]) torch.Size([62, 32, 4096])\n",
      "torch.Size([32]) torch.Size([62, 32, 4096])\n",
      "torch.Size([32]) torch.Size([62, 32, 4096])\n",
      "torch.Size([4]) torch.Size([62, 4, 4096])\n",
      "torch.Size([32]) torch.Size([62, 32, 4096])\n",
      "torch.Size([32]) torch.Size([62, 32, 4096])\n",
      "torch.Size([32]) torch.Size([62, 32, 4096])\n",
      "torch.Size([32]) torch.Size([62, 32, 4096])\n",
      "torch.Size([32]) torch.Size([62, 32, 4096])\n",
      "torch.Size([32]) torch.Size([62, 32, 4096])\n",
      "torch.Size([32]) torch.Size([62, 32, 4096])\n",
      "torch.Size([32]) torch.Size([62, 32, 4096])\n",
      "torch.Size([32]) torch.Size([62, 32, 4096])\n",
      "torch.Size([32]) torch.Size([62, 32, 4096])\n",
      "torch.Size([32]) torch.Size([62, 32, 4096])\n",
      "torch.Size([32]) torch.Size([62, 32, 4096])\n",
      "torch.Size([32]) torch.Size([62, 32, 4096])\n",
      "torch.Size([32]) torch.Size([62, 32, 4096])\n",
      "torch.Size([32]) torch.Size([62, 32, 4096])\n",
      "torch.Size([14]) torch.Size([62, 14, 4096])\n",
      "torch.Size([32]) torch.Size([62, 32, 4096])\n",
      "torch.Size([1]) torch.Size([62, 1, 4096])\n",
      "torch.Size([32]) torch.Size([62, 32, 4096])\n",
      "torch.Size([32]) torch.Size([62, 32, 4096])\n",
      "torch.Size([32]) torch.Size([62, 32, 4096])\n",
      "torch.Size([32]) torch.Size([62, 32, 4096])\n",
      "torch.Size([32]) torch.Size([62, 32, 4096])\n",
      "torch.Size([32]) torch.Size([62, 32, 4096])\n",
      "torch.Size([32]) torch.Size([62, 32, 4096])\n",
      "torch.Size([32]) torch.Size([62, 32, 4096])\n",
      "torch.Size([32]) torch.Size([62, 32, 4096])\n",
      "torch.Size([32]) torch.Size([62, 32, 4096])\n",
      "torch.Size([32]) torch.Size([62, 32, 4096])\n",
      "torch.Size([30]) torch.Size([62, 30, 4096])\n",
      "torch.Size([32]) torch.Size([62, 32, 4096])\n",
      "torch.Size([32]) torch.Size([62, 32, 4096])\n",
      "torch.Size([32]) torch.Size([62, 32, 4096])\n",
      "torch.Size([32]) torch.Size([62, 32, 4096])\n",
      "torch.Size([32]) torch.Size([62, 32, 4096])\n",
      "torch.Size([32]) torch.Size([62, 32, 4096])\n",
      "torch.Size([32]) torch.Size([62, 32, 4096])\n",
      "torch.Size([32]) torch.Size([62, 32, 4096])\n",
      "torch.Size([32]) torch.Size([62, 32, 4096])\n",
      "torch.Size([32]) torch.Size([62, 32, 4096])\n",
      "torch.Size([32]) torch.Size([62, 32, 4096])\n",
      "torch.Size([32]) torch.Size([62, 32, 4096])\n",
      "torch.Size([32]) torch.Size([62, 32, 4096])\n",
      "torch.Size([28]) torch.Size([62, 28, 4096])\n",
      "torch.Size([32]) torch.Size([62, 32, 4096])\n",
      "torch.Size([32]) torch.Size([62, 32, 4096])\n",
      "torch.Size([32]) torch.Size([62, 32, 4096])\n",
      "torch.Size([32]) torch.Size([62, 32, 4096])\n",
      "torch.Size([20]) torch.Size([62, 20, 4096])\n",
      "torch.Size([32]) torch.Size([62, 32, 4096])\n",
      "torch.Size([32]) torch.Size([62, 32, 4096])\n",
      "torch.Size([32]) torch.Size([62, 32, 4096])\n",
      "torch.Size([32]) torch.Size([62, 32, 4096])\n",
      "torch.Size([32]) torch.Size([62, 32, 4096])\n",
      "torch.Size([32]) torch.Size([62, 32, 4096])\n",
      "torch.Size([6]) torch.Size([62, 6, 4096])\n",
      "torch.Size([32]) torch.Size([62, 32, 4096])\n",
      "torch.Size([32]) torch.Size([62, 32, 4096])\n",
      "torch.Size([32]) torch.Size([62, 32, 4096])\n",
      "torch.Size([32]) torch.Size([62, 32, 4096])\n",
      "torch.Size([32]) torch.Size([62, 32, 4096])\n",
      "torch.Size([32]) torch.Size([62, 32, 4096])\n",
      "torch.Size([32]) torch.Size([62, 32, 4096])\n",
      "torch.Size([32]) torch.Size([62, 32, 4096])\n",
      "torch.Size([32]) torch.Size([62, 32, 4096])\n",
      "torch.Size([3]) torch.Size([62, 3, 4096])\n",
      "torch.Size([32]) torch.Size([62, 32, 4096])\n",
      "torch.Size([32]) torch.Size([62, 32, 4096])\n",
      "torch.Size([32]) torch.Size([62, 32, 4096])\n",
      "torch.Size([32]) torch.Size([62, 32, 4096])\n",
      "torch.Size([32]) torch.Size([62, 32, 4096])\n",
      "torch.Size([32]) torch.Size([62, 32, 4096])\n",
      "torch.Size([32]) torch.Size([62, 32, 4096])\n",
      "torch.Size([32]) torch.Size([62, 32, 4096])\n",
      "torch.Size([32]) torch.Size([62, 32, 4096])\n",
      "torch.Size([32]) torch.Size([62, 32, 4096])\n",
      "torch.Size([32]) torch.Size([62, 32, 4096])\n",
      "torch.Size([32]) torch.Size([62, 32, 4096])\n",
      "torch.Size([2]) torch.Size([62, 2, 4096])\n",
      "torch.Size([32]) torch.Size([62, 32, 4096])\n",
      "torch.Size([32]) torch.Size([62, 32, 4096])\n",
      "torch.Size([32]) torch.Size([62, 32, 4096])\n",
      "torch.Size([32]) torch.Size([62, 32, 4096])\n",
      "torch.Size([32]) torch.Size([62, 32, 4096])\n",
      "torch.Size([32]) torch.Size([62, 32, 4096])\n",
      "torch.Size([32]) torch.Size([62, 32, 4096])\n",
      "torch.Size([32]) torch.Size([62, 32, 4096])\n",
      "torch.Size([32]) torch.Size([62, 32, 4096])\n",
      "torch.Size([32]) torch.Size([62, 32, 4096])\n",
      "torch.Size([32]) torch.Size([62, 32, 4096])\n",
      "torch.Size([26]) torch.Size([62, 26, 4096])\n",
      "torch.Size([32]) torch.Size([62, 32, 4096])\n",
      "torch.Size([32]) torch.Size([62, 32, 4096])\n",
      "torch.Size([32]) torch.Size([62, 32, 4096])\n",
      "torch.Size([32]) torch.Size([62, 32, 4096])\n",
      "torch.Size([32]) torch.Size([62, 32, 4096])\n",
      "torch.Size([32]) torch.Size([62, 32, 4096])\n",
      "torch.Size([3]) torch.Size([62, 3, 4096])\n",
      "torch.Size([32]) torch.Size([62, 32, 4096])\n",
      "torch.Size([32]) torch.Size([62, 32, 4096])\n",
      "torch.Size([32]) torch.Size([62, 32, 4096])\n",
      "torch.Size([32]) torch.Size([62, 32, 4096])\n",
      "torch.Size([32]) torch.Size([62, 32, 4096])\n",
      "torch.Size([32]) torch.Size([62, 32, 4096])\n",
      "torch.Size([32]) torch.Size([62, 32, 4096])\n",
      "torch.Size([32]) torch.Size([62, 32, 4096])\n",
      "torch.Size([32]) torch.Size([62, 32, 4096])\n",
      "torch.Size([32]) torch.Size([62, 32, 4096])\n",
      "torch.Size([32]) torch.Size([62, 32, 4096])\n",
      "torch.Size([32]) torch.Size([62, 32, 4096])\n",
      "torch.Size([32]) torch.Size([62, 32, 4096])\n",
      "torch.Size([30]) torch.Size([62, 30, 4096])\n",
      "torch.Size([32]) torch.Size([62, 32, 4096])\n",
      "torch.Size([32]) torch.Size([62, 32, 4096])\n",
      "torch.Size([32]) torch.Size([62, 32, 4096])\n",
      "torch.Size([32]) torch.Size([62, 32, 4096])\n",
      "torch.Size([32]) torch.Size([62, 32, 4096])\n",
      "torch.Size([32]) torch.Size([62, 32, 4096])\n",
      "torch.Size([32]) torch.Size([62, 32, 4096])\n",
      "torch.Size([32]) torch.Size([62, 32, 4096])\n",
      "torch.Size([26]) torch.Size([62, 26, 4096])\n",
      "torch.Size([32]) torch.Size([62, 32, 4096])\n",
      "torch.Size([32]) torch.Size([62, 32, 4096])\n",
      "torch.Size([32]) torch.Size([62, 32, 4096])\n",
      "torch.Size([32]) torch.Size([62, 32, 4096])\n",
      "torch.Size([32]) torch.Size([62, 32, 4096])\n",
      "torch.Size([32]) torch.Size([62, 32, 4096])\n",
      "torch.Size([7]) torch.Size([62, 7, 4096])\n",
      "torch.Size([32]) torch.Size([62, 32, 4096])\n",
      "torch.Size([32]) torch.Size([62, 32, 4096])\n",
      "torch.Size([32]) torch.Size([62, 32, 4096])\n",
      "torch.Size([32]) torch.Size([62, 32, 4096])\n",
      "torch.Size([32]) torch.Size([62, 32, 4096])\n",
      "torch.Size([32]) torch.Size([62, 32, 4096])\n",
      "torch.Size([32]) torch.Size([62, 32, 4096])\n",
      "torch.Size([32]) torch.Size([62, 32, 4096])\n",
      "torch.Size([32]) torch.Size([62, 32, 4096])\n",
      "torch.Size([32]) torch.Size([62, 32, 4096])\n"
     ]
    }
   ],
   "source": [
    "nb_files = len(list(glob.glob(path_data+'/'+subset+'/'+'inputs_embeddings_*.pickle')))\n",
    "for it_ in range(nb_files):\n",
    "    sentences_embs = torch.load(path_data+'/'+subset+'/'+'inputs_embeddings_'+str(it_)+'.pickle')\n",
    "    refs = torch.load(path_data+'/'+subset+'/'+'outputs_refs_'+str(it_)+'.pickle')\n",
    "    for sentences_emb, ref in zip(sentences_embs, refs):\n",
    "        if sentences_emb.shape[0] == 0:\n",
    "            continue\n",
    "        ref = torch.squeeze(ref, 0)\n",
    "        print(ref.shape, sentences_emb.shape)\n",
    "        '''for i, v in enumerate(ref):\n",
    "            print(i,v)'''"
   ]
  },
  {
   "cell_type": "code",
   "execution_count": 114,
   "metadata": {},
   "outputs": [
    {
     "name": "stdout",
     "output_type": "stream",
     "text": [
      "4028 2678 6706\n"
     ]
    }
   ],
   "source": [
    "import numpy as np\n",
    "import matplotlib.pyplot as plt\n",
    "from pyannote.metrics import binary_classification\n",
    "\n",
    "#subset = 'dev'\n",
    "type_sentence_embedding='infersent'\n",
    "subset_data = 'big_bang_theory_:'\n",
    "path_save = '/vol/work3/maurice/HierarchicalRNN/'\n",
    "sub_path = path_save+type_sentence_embedding+'/'+subset_data\n",
    "path_work = sub_path+'/work/'\n",
    "\n",
    "Y_positives = np.load(path_work+'Y_positives_+'+subset+'.npy')\n",
    "Y_negatives = np.load(path_work+'Y_negatives_+'+subset+'.npy')\n",
    "\n",
    "#Y_positives = np.load('Y_positives.npy')\n",
    "#Y_negatives = np.load('Y_negatives.npy')\n",
    "print(len(Y_positives), len(Y_negatives), len(Y_positives)+len(Y_negatives))"
   ]
  },
  {
   "cell_type": "code",
   "execution_count": null,
   "metadata": {},
   "outputs": [],
   "source": [
    "for i,j in zip(Y)"
   ]
  },
  {
   "cell_type": "code",
   "execution_count": 47,
   "metadata": {},
   "outputs": [],
   "source": [
    "Y_positives = np.log10(Y_positives)\n",
    "Y_negatives = np.log10(Y_negatives)"
   ]
  },
  {
   "cell_type": "code",
   "execution_count": 115,
   "metadata": {},
   "outputs": [
    {
     "data": {
      "image/png": "[encoded data removed]",
      "text/plain": [
       "<Figure size 432x288 with 1 Axes>"
      ]
     },
     "metadata": {},
     "output_type": "display_data"
    }
   ],
   "source": [
    "plt.plot(Y_positives, 'o')\n",
    "plt.plot(Y_negatives, 'o')\n",
    "plt.show()"
   ]
  },
  {
   "cell_type": "code",
   "execution_count": 116,
   "metadata": {},
   "outputs": [
    {
     "name": "stderr",
     "output_type": "stream",
     "text": [
      "/people/maurice/anaconda3-4.3.1/envs/pyannote-video-dev-newGPU/lib/python3.6/site-packages/matplotlib/axes/_axes.py:6571: UserWarning: The 'normed' kwarg is deprecated, and has been replaced by the 'density' kwarg.\n",
      "  warnings.warn(\"The 'normed' kwarg is deprecated, and has been \"\n"
     ]
    },
    {
     "data": {
      "image/png": "[encoded data removed]",
      "text/plain": [
       "<Figure size 432x288 with 1 Axes>"
      ]
     },
     "metadata": {},
     "output_type": "display_data"
    }
   ],
   "source": [
    "n, bins, patch = plt.hist(Y_positives, bins=np.linspace(0, 1, 100), normed=True, color='g', alpha=0.5)\n",
    "plt.hist(Y_negatives, bins=bins, normed=True, color='r', alpha=0.5)\n",
    "plt.show()"
   ]
  },
  {
   "cell_type": "code",
   "execution_count": 105,
   "metadata": {},
   "outputs": [
    {
     "name": "stdout",
     "output_type": "stream",
     "text": [
      "1.0 8.2390247e-13\n"
     ]
    }
   ],
   "source": [
    "print(max(Y_negatives), min(Y_positives))"
   ]
  },
  {
   "cell_type": "code",
   "execution_count": 106,
   "metadata": {},
   "outputs": [],
   "source": [
    "fpr, tpr, thresholds, eer = binary_classification.det_curve(np.asarray([0 for i in range(len(Y_negatives))] + [1 for i in range(len(Y_positives))]), np.hstack((Y_negatives,Y_positives)))"
   ]
  },
  {
   "cell_type": "code",
   "execution_count": 107,
   "metadata": {},
   "outputs": [
    {
     "data": {
      "text/plain": [
       "0.36551866917111925"
      ]
     },
     "execution_count": 107,
     "metadata": {},
     "output_type": "execute_result"
    }
   ],
   "source": [
    "eer"
   ]
  },
  {
   "cell_type": "code",
   "execution_count": null,
   "metadata": {},
   "outputs": [],
   "source": [
    "thresholds"
   ]
  },
  {
   "cell_type": "code",
   "execution_count": 108,
   "metadata": {},
   "outputs": [
    {
     "data": {
      "text/plain": [
       "(0.7467467467467468, 0.7195563057632023, 0.7328994228171435, None)"
      ]
     },
     "execution_count": 108,
     "metadata": {},
     "output_type": "execute_result"
    }
   ],
   "source": [
    "from sklearn.metrics import precision_recall_fscore_support\n",
    "y_true = np.asarray([0 for i in range(len(Y_negatives))] + [1 for i in range(len(Y_positives))])\n",
    "y_pred = []#np.hstack((Y_negatives,Y_positives))\n",
    "for y in Y_negatives:\n",
    "    if y <= 0.5:\n",
    "        y_pred.append(0)\n",
    "    else:\n",
    "        y_pred.append(1)\n",
    "for y in Y_positives:\n",
    "    if y >= 0.5:\n",
    "        y_pred.append(1)\n",
    "    else:\n",
    "        y_pred.append(0)\n",
    "y_pred = np.asarray(y_pred)\n",
    "precision_recall_fscore_support(y_true, y_pred, average='binary')"
   ]
  },
  {
   "cell_type": "code",
   "execution_count": 71,
   "metadata": {},
   "outputs": [
    {
     "data": {
      "text/plain": [
       "array([3.9451289e-01, 1.8074647e-02, 6.5393397e-04, ..., 9.9782038e-01,\n",
       "       9.9998319e-01, 1.0000000e+00], dtype=float32)"
      ]
     },
     "execution_count": 71,
     "metadata": {},
     "output_type": "execute_result"
    }
   ],
   "source": [
    "y_pred"
   ]
  },
  {
   "cell_type": "code",
   "execution_count": 49,
   "metadata": {},
   "outputs": [
    {
     "name": "stdout",
     "output_type": "stream",
     "text": [
      "[(1, 10), (1, 9), (1, 8), (2, 10), (2, 9), (2, 8), (3, 10), (3, 9), (3, 8)]\n",
      "[0, 1, 2, 3, 4, 5, 6, 7, 8]\n",
      "[4, 1, 7, 5, 8, 6, 3, 0, 2]\n",
      "2 9\n",
      "1 9\n",
      "3 9\n",
      "2 8\n",
      "3 8\n",
      "3 10\n",
      "2 10\n",
      "1 10\n",
      "1 8\n"
     ]
    }
   ],
   "source": [
    "r=[1,2,3]\n",
    "t=[10,9,8]\n",
    "import itertools\n",
    "from random import shuffle\n",
    "g=list(itertools.product(r,t))\n",
    "print(g)\n",
    "ids_g=list(range(len(g)))\n",
    "print(ids_g)\n",
    "shuffle(ids_g)\n",
    "print(ids_g)\n",
    "for id_ in ids_g:\n",
    "    print(g[id_][0],g[id_][1])"
   ]
  },
  {
   "cell_type": "code",
   "execution_count": 30,
   "metadata": {},
   "outputs": [
    {
     "data": {
      "text/plain": [
       "[<matplotlib.lines.Line2D at 0x7f970c2ddb38>]"
      ]
     },
     "execution_count": 30,
     "metadata": {},
     "output_type": "execute_result"
    },
    {
     "data": {
      "image/png": "[encoded data removed]",
      "text/plain": [
       "<Figure size 432x288 with 1 Axes>"
      ]
     },
     "metadata": {},
     "output_type": "display_data"
    }
   ],
   "source": [
    "plt.plot(fpr, thresholds)"
   ]
  },
  {
   "cell_type": "code",
   "execution_count": 100,
   "metadata": {},
   "outputs": [],
   "source": [
    "type_sentence_embedding='infersent'\n",
    "subset_data = 'big_bang_theory_:'\n",
    "path_save = '/vol/work3/maurice/HierarchicalRNN/'\n",
    "sub_path = path_save+type_sentence_embedding+'/'+subset_data\n",
    "path_work = sub_path+'/work/'\n",
    "\n",
    "losses = np.load(path_work+'losses.npy')"
   ]
  },
  {
   "cell_type": "code",
   "execution_count": 93,
   "metadata": {},
   "outputs": [],
   "source": [
    "losses = np.reshape(losses, losses.shape[0]*losses.shape[1])"
   ]
  },
  {
   "cell_type": "code",
   "execution_count": 102,
   "metadata": {},
   "outputs": [],
   "source": [
    "losses = np.mean(losses, axis=1)"
   ]
  },
  {
   "cell_type": "code",
   "execution_count": 103,
   "metadata": {},
   "outputs": [
    {
     "name": "stdout",
     "output_type": "stream",
     "text": [
      "1.0050203432384515\n",
      "0.9882464530025362\n",
      "0.9825340768124541\n",
      "0.9794302859579991\n",
      "0.9795278200051595\n"
     ]
    }
   ],
   "source": [
    "for l in losses:\n",
    "    print(l)"
   ]
  },
  {
   "cell_type": "code",
   "execution_count": 104,
   "metadata": {},
   "outputs": [
    {
     "data": {
      "text/plain": [
       "[<matplotlib.lines.Line2D at 0x7f96d9ae29e8>]"
      ]
     },
     "execution_count": 104,
     "metadata": {},
     "output_type": "execute_result"
    },
    {
     "data": {
      "image/png": "[encoded data removed]",
      "text/plain": [
       "<Figure size 432x288 with 1 Axes>"
      ]
     },
     "metadata": {},
     "output_type": "display_data"
    }
   ],
   "source": [
    "plt.plot(losses)"
   ]
  },
  {
   "cell_type": "code",
   "execution_count": 1,
   "metadata": {},
   "outputs": [],
   "source": [
    "import data\n",
    "import model as utils\n",
    "import pickle\n",
    "import numpy as np\n",
    "import torch"
   ]
  },
  {
   "cell_type": "code",
   "execution_count": 3,
   "metadata": {},
   "outputs": [
    {
     "name": "stdout",
     "output_type": "stream",
     "text": [
      "file 0 on 176\n",
      "Found 927(/934) words with w2v vectors\n",
      "Vocab size : 927\n"
     ]
    },
    {
     "name": "stderr",
     "output_type": "stream",
     "text": [
      "/people/maurice/HierarchicalRNN/model.py:97: UserWarning: Implicit dimension choice for softmax has been deprecated. Change the call to include dim=X as an argument.\n",
      "  alpha_ = self.softmax(alpha_)\n"
     ]
    },
    {
     "name": "stdout",
     "output_type": "stream",
     "text": [
      "1.0 1.0 0.0\n",
      "0.9999996423721313 1.0 3.5762786865234375e-07\n",
      "0.99997878074646 1.0 2.1219253540039062e-05\n",
      "0.0009240505169145763 0.0 0.0009240505169145763\n",
      "2.776459098186024e-07 0.0 2.776459098186024e-07\n",
      "0.999867014395885 0.00041399021734041415 0.9994530241785445\n"
     ]
    }
   ],
   "source": [
    "device = 'cuda:0'\n",
    "is_trained = True\n",
    "type_sentence_embedding='infersent'\n",
    "\n",
    "X_train, Y_train, X_dev, Y_dev, X_test, Y_test, words_set, we = data.load_data(type_sentence_embedding=type_sentence_embedding)\n",
    "hidden_size = 300\n",
    "if type_sentence_embedding == 'lstm':\n",
    "    taille_embedding = len(we.vectors[we.stoi[X_train[0][0][0]]])\n",
    "else:\n",
    "    taille_embedding = 4096\n",
    "\n",
    "idx_set_words, embed, model_trained, losses = utils.launch_train(X_train, Y_train, words_set, we, taille_embedding, hidden_size=hidden_size, taille_context=3, bidirectional=False, num_layers=1, nb_epoch=300, targset_size=1, device=device, is_trained=is_trained, type_sentence_embedding=type_sentence_embedding)\n",
    "if is_trained:\n",
    "    model_trained.load_state_dict(torch.load('/people/maurice/HierarchicalRNN/last_model.pth.tar'))\n",
    "else:\n",
    "    np.save('losses.npy', np.asarray(losses))\n",
    "\n",
    "def get_predictions(X_all, Y_all, idx_set_words, embed, model, taille_context=3, device='cpu', is_eval=False, type_sentence_embedding='lstm'):\n",
    "    Y_positives_all = []\n",
    "    Y_negatives_all = []\n",
    "    file = 0\n",
    "    for X,Y in zip(X_all,Y_all):\n",
    "        print('file', file, 'on', len(X_all))\n",
    "        Y_positives, Y_negatives = utils.get_one_prediction(X, Y, idx_set_words, embed, model, taille_context=taille_context, device=device, is_eval=is_eval,type_sentence_embedding=type_sentence_embedding)\n",
    "        Y_positives_all += Y_positives\n",
    "        Y_negatives_all += Y_negatives\n",
    "        file += 1\n",
    "        #break\n",
    "    Y_positives_all = np.asarray(Y_positives_all)\n",
    "    Y_negatives_all = np.asarray(Y_negatives_all)\n",
    "    np.save('Y_positives.npy', Y_positives_all)\n",
    "    np.save('Y_negatives.npy', Y_negatives_all)\n",
    "    print(np.mean(Y_positives_all), np.mean(Y_negatives_all), np.mean(Y_positives_all) - np.mean(Y_negatives_all))\n",
    "\n",
    "get_predictions(X_train, Y_train, idx_set_words, embed, model_trained, taille_context=3, device=device, is_eval=True, type_sentence_embedding=type_sentence_embedding)\n",
    "#get_predictions(X_dev, Y_dev, idx_set_words, embed, model_trained, taille_context=3, device=device, is_eval=True, type_sentence_embedding=type_sentence_embedding)\n",
    "#get_predictions(X_test, Y_test, idx_set_words, embed, model_trained, taille_context=3, device=device, is_eval=True, type_sentence_embedding=type_sentence_embedding)"
   ]
  },
  {
   "cell_type": "code",
   "execution_count": 37,
   "metadata": {},
   "outputs": [],
   "source": [
    "import torch\n",
    "import numpy as np\n",
    "a=torch.ones(32)"
   ]
  },
  {
   "cell_type": "code",
   "execution_count": 39,
   "metadata": {},
   "outputs": [
    {
     "data": {
      "text/plain": [
       "torch.Size([32])"
      ]
     },
     "execution_count": 39,
     "metadata": {},
     "output_type": "execute_result"
    }
   ],
   "source": [
    "a.shape"
   ]
  },
  {
   "cell_type": "code",
   "execution_count": 49,
   "metadata": {},
   "outputs": [
    {
     "name": "stdout",
     "output_type": "stream",
     "text": [
      "0 1.0 tensor(1.)\n"
     ]
    }
   ],
   "source": [
    "b = np.asarray(a)\n",
    "for d, i in enumerate(b):\n",
    "    print(d, i, a[d])\n",
    "    break"
   ]
  },
  {
   "cell_type": "code",
   "execution_count": 51,
   "metadata": {},
   "outputs": [
    {
     "data": {
      "text/plain": [
       "False"
      ]
     },
     "execution_count": 51,
     "metadata": {},
     "output_type": "execute_result"
    }
   ],
   "source": [
    "4%5 == 0"
   ]
  },
  {
   "cell_type": "code",
   "execution_count": 52,
   "metadata": {},
   "outputs": [],
   "source": [
    "meminfo = dict((i.split()[0].rstrip(':'),int(i.split()[1])) for i in open('/proc/meminfo').readlines())\n",
    "mem_kib = meminfo['MemTotal']  # e.g. 3921852"
   ]
  },
  {
   "cell_type": "code",
   "execution_count": 60,
   "metadata": {},
   "outputs": [
    {
     "data": {
      "text/plain": [
       "131784608000"
      ]
     },
     "execution_count": 60,
     "metadata": {},
     "output_type": "execute_result"
    }
   ],
   "source": [
    "mem_kib*1000"
   ]
  },
  {
   "cell_type": "code",
   "execution_count": 55,
   "metadata": {},
   "outputs": [
    {
     "data": {
      "text/plain": [
       "184"
      ]
     },
     "execution_count": 55,
     "metadata": {},
     "output_type": "execute_result"
    }
   ],
   "source": [
    "import sys\n",
    "\n",
    "def get_size(obj, seen=None):\n",
    "    \"\"\"Recursively finds size of objects\"\"\"\n",
    "    size = sys.getsizeof(obj)\n",
    "    if seen is None:\n",
    "        seen = set()\n",
    "    obj_id = id(obj)\n",
    "    if obj_id in seen:\n",
    "        return 0\n",
    "    # Important mark as seen *before* entering recursion to gracefully handle\n",
    "    # self-referential objects\n",
    "    seen.add(obj_id)\n",
    "    if isinstance(obj, dict):\n",
    "        size += sum([get_size(v, seen) for v in obj.values()])\n",
    "        size += sum([get_size(k, seen) for k in obj.keys()])\n",
    "    elif hasattr(obj, '__dict__'):\n",
    "        size += get_size(obj.__dict__, seen)\n",
    "    elif hasattr(obj, '__iter__') and not isinstance(obj, (str, bytes, bytearray)):\n",
    "        size += sum([get_size(i, seen) for i in obj])\n",
    "    return size\n",
    "\n",
    "get_size(torch.ones(8,32,4096))"
   ]
  },
  {
   "cell_type": "code",
   "execution_count": 62,
   "metadata": {},
   "outputs": [
    {
     "data": {
      "text/plain": [
       "4069.435770750988"
      ]
     },
     "execution_count": 62,
     "metadata": {},
     "output_type": "execute_result"
    }
   ],
   "source": [
    "(mem_kib*1000)/(2*176*184*500)"
   ]
  },
  {
   "cell_type": "code",
   "execution_count": 74,
   "metadata": {},
   "outputs": [
    {
     "name": "stdout",
     "output_type": "stream",
     "text": [
      "torch.Size([0]) torch.Size([0])\n",
      "torch.Size([8, 32, 4096]) torch.Size([1, 32])\n",
      "torch.Size([8, 32, 4096]) torch.Size([1, 32])\n",
      "torch.Size([8, 32, 4096]) torch.Size([1, 32])\n",
      "torch.Size([8, 32, 4096]) torch.Size([1, 32])\n",
      "torch.Size([8, 32, 4096]) torch.Size([1, 32])\n",
      "torch.Size([8, 32, 4096]) torch.Size([1, 32])\n",
      "torch.Size([8, 32, 4096]) torch.Size([1, 32])\n",
      "torch.Size([8, 32, 4096]) torch.Size([1, 32])\n",
      "torch.Size([8, 32, 4096]) torch.Size([1, 32])\n",
      "torch.Size([8, 32, 4096]) torch.Size([1, 32])\n"
     ]
    }
   ],
   "source": [
    "import glob\n",
    "type_sentence_embedding='infersent'\n",
    "subset_data = 'big_bang_theory_:'\n",
    "path_save = '/vol/work3/maurice/HierarchicalRNN/'\n",
    "sub_path = path_save+type_sentence_embedding+'/'+subset_data\n",
    "path_data = sub_path+'/pre_trained_features'\n",
    "path_data_train=path_data+'/train/'\n",
    "nb_files = len(list(glob.glob(path_data_train+'inputs_embeddings_*.pickle')))\n",
    "for it_ in range(nb_files):\n",
    "    #print(it_+1,'on',nb_files)        \n",
    "    sentences_embs = torch.load(path_data_train+'inputs_embeddings_'+str(it_)+'.pickle')\n",
    "    refs = torch.load(path_data_train+'outputs_refs_'+str(it_)+'.pickle')\n",
    "\n",
    "    if it_ == 142:\n",
    "        for sentences_emb, ref in zip(sentences_embs, refs): #Each file contains all the tensor of window-size for one episode\n",
    "            #sentences_emb = sentences_emb.to(device)\n",
    "            #ref = ref.to(device)\n",
    "            print(sentences_emb.shape, ref.shape)#[1]"
   ]
  },
  {
   "cell_type": "code",
   "execution_count": 121,
   "metadata": {},
   "outputs": [
    {
     "name": "stdout",
     "output_type": "stream",
     "text": [
      "/vol/work2/galmant/transcripts/TheBigBangTheory.Season01.Episode01\n"
     ]
    }
   ],
   "source": [
    "test_set = ['TheBigBangTheory.Season01.Episode01']\n",
    "for file in glob.glob('/vol/work2/galmant/transcripts/*'):\n",
    "    if file.split('/')[-1] in test_set:\n",
    "        print(file)"
   ]
  },
  {
   "cell_type": "code",
   "execution_count": 122,
   "metadata": {},
   "outputs": [
    {
     "data": {
      "text/plain": [
       "False"
      ]
     },
     "execution_count": 122,
     "metadata": {},
     "output_type": "execute_result"
    }
   ],
   "source": [
    "'TheBigBangTheory.Season01.Episode01' in 'TheBigBangTheory.Season01'"
   ]
  },
  {
   "cell_type": "code",
   "execution_count": 124,
   "metadata": {},
   "outputs": [
    {
     "data": {
      "text/plain": [
       "True"
      ]
     },
     "execution_count": 124,
     "metadata": {},
     "output_type": "execute_result"
    }
   ],
   "source": [
    "'TheBigBangTheory.Season01' in ['TheBigBangTheory.Season01']"
   ]
  },
  {
   "cell_type": "code",
   "execution_count": 127,
   "metadata": {},
   "outputs": [
    {
     "data": {
      "text/plain": [
       "'TheBigBangTheory.Season01'"
      ]
     },
     "execution_count": 127,
     "metadata": {},
     "output_type": "execute_result"
    }
   ],
   "source": [
    "'.'.join('TheBigBangTheory.Season01.Episode01'.split('.')[:-1])"
   ]
  },
  {
   "cell_type": "code",
   "execution_count": 128,
   "metadata": {},
   "outputs": [
    {
     "name": "stdout",
     "output_type": "stream",
     "text": [
      "1.8.0\n"
     ]
    }
   ],
   "source": [
    "import tensorflow as tf\n",
    "print(tf.__version__)"
   ]
  },
  {
   "cell_type": "code",
   "execution_count": 141,
   "metadata": {},
   "outputs": [
    {
     "name": "stdout",
     "output_type": "stream",
     "text": [
      "[(0, 0), (1, 1), (2, 2), (3, 3), (4, 4), (5, 5), (6, 6), (7, 7), (8, 8), (9, 9)]\n"
     ]
    },
    {
     "ename": "NameError",
     "evalue": "name 'a' is not defined",
     "output_type": "error",
     "traceback": [
      "\u001b[0;31m---------------------------------------------------------------------------\u001b[0m",
      "\u001b[0;31mNameError\u001b[0m                                 Traceback (most recent call last)",
      "\u001b[0;32m<ipython-input-141-032ec1644475>\u001b[0m in \u001b[0;36m<module>\u001b[0;34m()\u001b[0m\n\u001b[1;32m      4\u001b[0m \u001b[0;34m\u001b[0m\u001b[0m\n\u001b[1;32m      5\u001b[0m \u001b[0mprint\u001b[0m\u001b[0;34m(\u001b[0m\u001b[0mlist\u001b[0m\u001b[0;34m(\u001b[0m\u001b[0mfoo\u001b[0m\u001b[0;34m(\u001b[0m\u001b[0;34m)\u001b[0m\u001b[0;34m)\u001b[0m\u001b[0;34m)\u001b[0m\u001b[0;34m\u001b[0m\u001b[0m\n\u001b[0;32m----> 6\u001b[0;31m \u001b[0mlist\u001b[0m\u001b[0;34m(\u001b[0m\u001b[0ma\u001b[0m\u001b[0;34m)\u001b[0m\u001b[0;34m\u001b[0m\u001b[0m\n\u001b[0m",
      "\u001b[0;31mNameError\u001b[0m: name 'a' is not defined"
     ]
    }
   ],
   "source": [
    "def foo():\n",
    "    for a in range(10):\n",
    "        yield (a,)+(a,)\n",
    "\n",
    "print(list(foo()))\n",
    "list(a)"
   ]
  },
  {
   "cell_type": "code",
   "execution_count": 142,
   "metadata": {},
   "outputs": [
    {
     "name": "stdout",
     "output_type": "stream",
     "text": [
      "None\n",
      "?\n",
      "True\n"
     ]
    }
   ],
   "source": [
    "r = None\n",
    "print(r)\n",
    "if not r:\n",
    "    print('?')\n",
    "print(r is None)"
   ]
  },
  {
   "cell_type": "code",
   "execution_count": 144,
   "metadata": {},
   "outputs": [
    {
     "name": "stdout",
     "output_type": "stream",
     "text": [
      "398.97083694168.88645104430.25401822209.966637040.99678814\n"
     ]
    }
   ],
   "source": [
    "a = ['398.97083694' '168.88645104' '430.25401822' '209.96663704'   '0.99678814']\n",
    "print(a[0])"
   ]
  },
  {
   "cell_type": "code",
   "execution_count": null,
   "metadata": {},
   "outputs": [],
   "source": []
  }
 ],
 "metadata": {
  "kernelspec": {
   "display_name": "pyannote-video-dev-newGPU",
   "language": "python",
   "name": "pyannote-video-dev-newgpu"
  },
  "language_info": {
   "codemirror_mode": {
    "name": "ipython",
    "version": 3
   },
   "file_extension": ".py",
   "mimetype": "text/x-python",
   "name": "python",
   "nbconvert_exporter": "python",
   "pygments_lexer": "ipython3",
   "version": "3.6.6"
  }
 },
 "nbformat": 4,
 "nbformat_minor": 2
}
